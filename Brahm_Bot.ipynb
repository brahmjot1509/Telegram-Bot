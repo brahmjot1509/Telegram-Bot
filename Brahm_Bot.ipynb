{
  "nbformat": 4,
  "nbformat_minor": 0,
  "metadata": {
    "colab": {
      "name": "Brahm_Bot.ipynb",
      "provenance": [],
      "collapsed_sections": [],
      "authorship_tag": "ABX9TyOPvWO/Ku3pshKy5IoIoQ63",
      "include_colab_link": true
    },
    "kernelspec": {
      "name": "python3",
      "display_name": "Python 3"
    },
    "language_info": {
      "name": "python"
    }
  },
  "cells": [
    {
      "cell_type": "markdown",
      "metadata": {
        "id": "view-in-github",
        "colab_type": "text"
      },
      "source": [
        "<a href=\"https://colab.research.google.com/github/brahm15jot/Brahm-Bot/blob/main/Brahm_Bot.ipynb\" target=\"_parent\"><img src=\"https://colab.research.google.com/assets/colab-badge.svg\" alt=\"Open In Colab\"/></a>"
      ]
    },
    {
      "cell_type": "code",
      "execution_count": null,
      "metadata": {
        "colab": {
          "base_uri": "https://localhost:8080/"
        },
        "id": "kerg9X62wszj",
        "outputId": "c1fe9dd3-58c8-4d27-9b97-509aac3b95ba"
      },
      "outputs": [
        {
          "output_type": "stream",
          "name": "stdout",
          "text": [
            "Looking in indexes: https://pypi.org/simple, https://us-python.pkg.dev/colab-wheels/public/simple/\n",
            "Requirement already satisfied: python-telegram-bot in /usr/local/lib/python3.7/dist-packages (13.12)\n",
            "Requirement already satisfied: certifi in /usr/local/lib/python3.7/dist-packages (from python-telegram-bot) (2022.6.15)\n",
            "Requirement already satisfied: pytz>=2018.6 in /usr/local/lib/python3.7/dist-packages (from python-telegram-bot) (2022.1)\n",
            "Requirement already satisfied: APScheduler==3.6.3 in /usr/local/lib/python3.7/dist-packages (from python-telegram-bot) (3.6.3)\n",
            "Requirement already satisfied: cachetools==4.2.2 in /usr/local/lib/python3.7/dist-packages (from python-telegram-bot) (4.2.2)\n",
            "Requirement already satisfied: tornado>=6.1 in /usr/local/lib/python3.7/dist-packages (from python-telegram-bot) (6.1)\n",
            "Requirement already satisfied: tzlocal>=1.2 in /usr/local/lib/python3.7/dist-packages (from APScheduler==3.6.3->python-telegram-bot) (1.5.1)\n",
            "Requirement already satisfied: setuptools>=0.7 in /usr/local/lib/python3.7/dist-packages (from APScheduler==3.6.3->python-telegram-bot) (57.4.0)\n",
            "Requirement already satisfied: six>=1.4.0 in /usr/local/lib/python3.7/dist-packages (from APScheduler==3.6.3->python-telegram-bot) (1.15.0)\n"
          ]
        }
      ],
      "source": [
        "!pip install python-telegram-bot"
      ]
    },
    {
      "cell_type": "code",
      "source": [
        "import telegram\n"
      ],
      "metadata": {
        "id": "GjuErcEZwufp"
      },
      "execution_count": null,
      "outputs": []
    },
    {
      "cell_type": "code",
      "source": [
        "from telegram.ext import Updater, CommandHandler, MessageHandler, Filters\n",
        "updater = Updater(token='5515774081:AAGNoVfEpeYlTBovV2GsEK0w9CqRZ6fvbuM', use_context=True) #Replace TOKEN with your token string\n",
        "dispatcher = updater.dispatcher"
      ],
      "metadata": {
        "id": "za4xC0rrxM59"
      },
      "execution_count": null,
      "outputs": []
    },
    {
      "cell_type": "code",
      "source": [
        "def hello(update, context):\n",
        "    context.bot.send_message(chat_id=update.effective_chat.id, text='Hello, Myself BrahmBot.')"
      ],
      "metadata": {
        "id": "qOORBgVLzQ_Q"
      },
      "execution_count": null,
      "outputs": []
    },
    {
      "cell_type": "code",
      "source": [
        "hello_handler = CommandHandler('hello', hello)\n",
        "dispatcher.add_handler(hello_handler)"
      ],
      "metadata": {
        "id": "ClBGOj4_zZpk"
      },
      "execution_count": null,
      "outputs": []
    },
    {
      "cell_type": "code",
      "source": [
        "def hru(update, context):\n",
        "    context.bot.send_message(chat_id=update.effective_chat.id, text='I am good:)')"
      ],
      "metadata": {
        "id": "CAwFFqi2z2sn"
      },
      "execution_count": null,
      "outputs": []
    },
    {
      "cell_type": "code",
      "source": [
        "hru_handler = CommandHandler('hru', hru)\n",
        "dispatcher.add_handler(hru_handler)"
      ],
      "metadata": {
        "id": "6XBA6YF-2BSy"
      },
      "execution_count": null,
      "outputs": []
    },
    {
      "cell_type": "code",
      "source": [
        "updater.start_polling()"
      ],
      "metadata": {
        "id": "ii1jYkHs2NGO",
        "colab": {
          "base_uri": "https://localhost:8080/"
        },
        "outputId": "eb535042-5f3c-4576-a8f5-57c101ec864a"
      },
      "execution_count": null,
      "outputs": [
        {
          "output_type": "execute_result",
          "data": {
            "text/plain": [
              "<queue.Queue at 0x7f86418a8690>"
            ]
          },
          "metadata": {},
          "execution_count": 8
        }
      ]
    },
    {
      "cell_type": "code",
      "source": [
        "def youtube(update, context):\n",
        "    context.bot.send_message(chat_id=update.effective_chat.id, text='here is the link to youtube: https://www.youtube.com/')"
      ],
      "metadata": {
        "id": "OPla7Qk37Cc-"
      },
      "execution_count": null,
      "outputs": []
    },
    {
      "cell_type": "code",
      "source": [
        "youtube_handler = CommandHandler('youtube', youtube)\n",
        "dispatcher.add_handler(youtube_handler)"
      ],
      "metadata": {
        "id": "y5U-_y0c8FxG"
      },
      "execution_count": null,
      "outputs": []
    },
    {
      "cell_type": "code",
      "source": [
        "updater.start_polling()"
      ],
      "metadata": {
        "id": "68uNoRNLBACm"
      },
      "execution_count": null,
      "outputs": []
    },
    {
      "cell_type": "code",
      "source": [
        "def songs(update, context):\n",
        "    context.bot.send_message(chat_id=update.effective_chat.id, text='Listen to amazing music on spotify: https://open.spotify.com/ ')\n",
        "songs_handler = CommandHandler('songs', songs)\n",
        "dispatcher.add_handler(songs_handler)"
      ],
      "metadata": {
        "id": "iS47Ea599ph6"
      },
      "execution_count": null,
      "outputs": []
    },
    {
      "cell_type": "code",
      "source": [
        "updater.start_polling()"
      ],
      "metadata": {
        "id": "ZRzGZYMNA8n2"
      },
      "execution_count": null,
      "outputs": []
    },
    {
      "cell_type": "code",
      "source": [
        "def playstore(update, context):\n",
        "    context.bot.send_message(chat_id=update.effective_chat.id, text='To play Games and install applications: https://play.google.com/store/apps/?hl=en&gl=US')\n",
        "playstore_handler = CommandHandler('playstore', playstore)\n",
        "dispatcher.add_handler(playstore_handler)"
      ],
      "metadata": {
        "id": "guCfTNa3AKlV"
      },
      "execution_count": null,
      "outputs": []
    },
    {
      "cell_type": "code",
      "source": [
        "updater.start_polling()"
      ],
      "metadata": {
        "id": "OrVeqectAoD7"
      },
      "execution_count": null,
      "outputs": []
    },
    {
      "cell_type": "code",
      "source": [
        "def start(update, context):\n",
        "    context.bot.send_message(chat_id=update.effective_chat.id, text='Hey. I hope you are doing good. This side Brahm_bot. Here are the following rules \\n to say hello - /hello \\n to ask how the bot is doing - /hru \\n to open youtube - /youtube \\n to listen music - /songs \\n to open playstore - /playstore \\n')\n",
        "start_handler = CommandHandler('start', start)\n",
        "dispatcher.add_handler(start_handler)"
      ],
      "metadata": {
        "id": "LSuXvCpYAv9b"
      },
      "execution_count": null,
      "outputs": []
    },
    {
      "cell_type": "code",
      "source": [
        "updater.start_polling()"
      ],
      "metadata": {
        "id": "83dbmnNEBNYu"
      },
      "execution_count": null,
      "outputs": []
    },
    {
      "cell_type": "code",
      "source": [
        ""
      ],
      "metadata": {
        "id": "IvCDcDFsBQdv"
      },
      "execution_count": null,
      "outputs": []
    }
  ]
}